{
 "metadata": {
  "name": "",
  "signature": "sha256:9cc922a481671599ae8cbb1422919379f0bf259341c9c24ae351c8b7d83381d2"
 },
 "nbformat": 3,
 "nbformat_minor": 0,
 "worksheets": [
  {
   "cells": [
    {
     "cell_type": "heading",
     "level": 1,
     "metadata": {},
     "source": [
      "BUSINESS NEED"
     ]
    },
    {
     "cell_type": "heading",
     "level": 2,
     "metadata": {},
     "source": [
      "PURPOSE"
     ]
    },
    {
     "cell_type": "markdown",
     "metadata": {},
     "source": [
      "The purpose of this exercise it to describe the business need  that existed and resulted in the creation of IPython as a project and as a tool, and to support further development of it as a tool and as a continuous project."
     ]
    },
    {
     "cell_type": "heading",
     "level": 2,
     "metadata": {},
     "source": [
      "DESCRIPTION"
     ]
    },
    {
     "cell_type": "markdown",
     "metadata": {},
     "source": [
      "An assessment of business goals and objectives, business problem(s) or opportunity, and/or desired outcome of IPython project will be performed to outline the issue(s) that existed and defined the business need for IPython at its creation."
     ]
    },
    {
     "cell_type": "heading",
     "level": 2,
     "metadata": {},
     "source": [
      "INPUT"
     ]
    },
    {
     "cell_type": "heading",
     "level": 3,
     "metadata": {},
     "source": [
      "BUSINESS GOALS AND OBJECTIVES"
     ]
    },
    {
     "cell_type": "heading",
     "level": 3,
     "metadata": {},
     "source": [
      "REQUIREMENTS [STATED]"
     ]
    },
    {
     "cell_type": "heading",
     "level": 2,
     "metadata": {},
     "source": [
      "TECHNIQUES"
     ]
    },
    {
     "cell_type": "markdown",
     "metadata": {},
     "source": [
      "The techniques that will be applied for this assessment are benchmarking and focus groups."
     ]
    },
    {
     "cell_type": "heading",
     "level": 2,
     "metadata": {},
     "source": [
      "STAKEHOLDERS"
     ]
    },
    {
     "cell_type": "markdown",
     "metadata": {},
     "source": [
      "The stakeholders for this assessment are:  customer, domain SME and end user, implementation SME and sponsor."
     ]
    },
    {
     "cell_type": "heading",
     "level": 2,
     "metadata": {},
     "source": [
      "ASSESSMENT OF BUSINESS NEED"
     ]
    },
    {
     "cell_type": "heading",
     "level": 3,
     "metadata": {},
     "source": [
      "S.M.A.R.T GOALS AND OBJECTIVES"
     ]
    },
    {
     "cell_type": "heading",
     "level": 3,
     "metadata": {},
     "source": [
      "BUSINESS PROBLEM AND OPPORTUNITY"
     ]
    },
    {
     "cell_type": "heading",
     "level": 3,
     "metadata": {},
     "source": [
      "DESIRED OUTCOME"
     ]
    }
   ],
   "metadata": {}
  }
 ]
}