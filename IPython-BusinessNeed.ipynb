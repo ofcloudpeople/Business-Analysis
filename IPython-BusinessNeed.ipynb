{
 "metadata": {
  "name": "",
  "signature": "sha256:4223399624b7c0466eb65ba4f35b25fb6b584e7ebd32e4517d440346e3455dc5"
 },
 "nbformat": 3,
 "nbformat_minor": 0,
 "worksheets": [
  {
   "cells": [
    {
     "cell_type": "heading",
     "level": 1,
     "metadata": {},
     "source": [
      "BUSINESS NEED (DRAFT)"
     ]
    },
    {
     "cell_type": "heading",
     "level": 2,
     "metadata": {},
     "source": [
      "PURPOSE"
     ]
    },
    {
     "cell_type": "markdown",
     "metadata": {},
     "source": [
      "The purpose of this exercise is to describe the business need  that existed and resulted in the creation of IPython as a project and as a tool, and to support further development of it as a tool and as a continuous project."
     ]
    },
    {
     "cell_type": "heading",
     "level": 2,
     "metadata": {},
     "source": [
      "DESCRIPTION"
     ]
    },
    {
     "cell_type": "markdown",
     "metadata": {},
     "source": [
      "An assessment of business goals and objectives, business problem(s) or opportunity, and/or desired outcome of IPython project will be performed to outline the issue(s) that existed and defined the business need for IPython at its creation."
     ]
    },
    {
     "cell_type": "heading",
     "level": 2,
     "metadata": {},
     "source": [
      "INPUT"
     ]
    },
    {
     "cell_type": "heading",
     "level": 3,
     "metadata": {},
     "source": [
      "BUSINESS GOALS AND OBJECTIVES"
     ]
    },
    {
     "cell_type": "markdown",
     "metadata": {},
     "source": [
      "Initially in 2001:\n",
      "\n",
      "\u2022\tDeliver an interactive environment for daily use from existing tools scientists are accustomed to using\n",
      "\n",
      "By 2006:\n",
      "\n",
      "\u2022\tDeliver modern, high-quality tools for scientific computing that take advantage of the best practices from the open source revolution in software development and bring them to computational research\n",
      "\n",
      "\u2022\tDeliver tools that greatly enhance Python shell and to provide facilities for interactive distributed and parallel computing, as well as a comprehensive set of tools for building special-purpose interactive  environments for scientific computing.\n",
      "\n",
      "\u2022\tObtain funding for development of interactive tool"
     ]
    },
    {
     "cell_type": "heading",
     "level": 3,
     "metadata": {},
     "source": [
      "REQUIREMENTS [STATED]"
     ]
    },
    {
     "cell_type": "markdown",
     "metadata": {},
     "source": [
      "\u2022\tInteractive tools that allow immediate, rapid and direct algorithmic exploration, data analysis, visualization and evaluation\n",
      "\n",
      "\u2022\tInteractive tools take advantage of the best practices from the open source revolution in software development and bring them to computational research\n",
      "\n",
      "\u2022\tInteractive tools in which code can be run immediately, without having to go through the traditional edit/compile/execute cycle\n"
     ]
    },
    {
     "cell_type": "heading",
     "level": 2,
     "metadata": {},
     "source": [
      "TECHNIQUES"
     ]
    },
    {
     "cell_type": "markdown",
     "metadata": {},
     "source": [
      "The techniques that will be applied for this assessment are benchmarking and focus groups."
     ]
    },
    {
     "cell_type": "heading",
     "level": 2,
     "metadata": {},
     "source": [
      "STAKEHOLDERS"
     ]
    },
    {
     "cell_type": "markdown",
     "metadata": {},
     "source": [
      "The stakeholders for this assessment are:  customer, domain SME and end user, implementation SME and sponsor."
     ]
    },
    {
     "cell_type": "heading",
     "level": 2,
     "metadata": {},
     "source": [
      "ASSESSMENT OF BUSINESS NEED"
     ]
    },
    {
     "cell_type": "heading",
     "level": 3,
     "metadata": {},
     "source": [
      "S.M.A.R.T GOALS AND OBJECTIVES"
     ]
    },
    {
     "cell_type": "heading",
     "level": 4,
     "metadata": {},
     "source": [
      "Goals and objectives stated above were achieved with development of IPython in 2001 and with several releases since then via IPython.org."
     ]
    },
    {
     "cell_type": "heading",
     "level": 5,
     "metadata": {},
     "source": [
      "IPython provides a rich architecture for interactive computing with:"
     ]
    },
    {
     "cell_type": "markdown",
     "metadata": {},
     "source": [
      "\u2022\tPowerful interactive shells (terminal and Qt-based)\n",
      "\n",
      "\u2022\tA browser-based notebook with support for code, text, mathematical expressions, inline plots and other rich media\n",
      "\n",
      "\u2022\tSupport for interactive data visualization and use of GUI toolkits.\n",
      "\n",
      "\u2022\tFlexible, embeddable interpreters to load into your own projects\n",
      "\n",
      "\u2022\tEasy to use, high performance tools for parallel computing."
     ]
    },
    {
     "cell_type": "heading",
     "level": 5,
     "metadata": {},
     "source": [
      "Funding was awarded (or achieved) for IPython project as follows:"
     ]
    },
    {
     "cell_type": "markdown",
     "metadata": {},
     "source": [
      "\u2022\tAugust 2013:  $100k Microsoft donation\n",
      "\n",
      "\u2022\t2012:  $1.15M Sloan Foundation grant\n",
      "\n",
      "\u2022\t2011-Present:  The US DoD High Performance Computing Modernization Program (HPCMP) has funded several IPython developers in collaboration with the US Army Engineer Research and Development Center (ERDC) that provides computing resources and support from the staff.\n",
      "\n",
      "\u2022\t2011:  Funding by Sage/NSF via the grant \u201cSage: Unifying Mathematical Software for Scientists, Engineers, and Mathematicians\u201d (NSF grant DMS-1015114) supported our Seattle developer meeting.\n",
      "\n",
      "\u2022\t2009:  Funding via the NiPy project (NIH grant 5R01MH081909-02) supported refactoring work.\n",
      "\n",
      "\u2022\tBeginning-Present:  Enthought Inc has supported IPython since its beginning in multiple forms, including \u2013but not limited to\u2013 the funding of our Qt console, hosting our website for many years, the continued hosting of our mailing lists, and the inclusion of IPython in Enthought Canopy.\n",
      "\n",
      "\u2022\tContinuous period:  Donations through IPython.org website"
     ]
    },
    {
     "cell_type": "heading",
     "level": 5,
     "metadata": {},
     "source": [
      "Other project support received includes:"
     ]
    },
    {
     "cell_type": "markdown",
     "metadata": {},
     "source": [
      "\u2022\tXxxx-Present:  GitHub hosts development workflow and documentation.\n",
      "\n",
      "\u2022\tXxxx-Present:  ShiningPanda provides a free continuous integration service.\n",
      "\n",
      "\u2022\tJuly 2013: Free cloud hosting by Rackspace\n",
      "\n",
      "\u2022\t2010: Microsoft\u2019s team working on Python Tools for Visual Studio developed the integration of IPython into the Python plugin for Visual Studio.\n",
      "\n",
      "\u2022\t2010 and 2005: Google Summer of Code provided support for prototypes in several areas of the project.\n",
      "\n",
      "\u2022\t2009: The Ohio Supercomputer Center and the Department of Defense High Performance Computing Modernization Program (HPCMP) sponsored work on parallel computing tools.\n",
      "\n",
      "\u2022\t2008: Tech-X Corporation supported the development of parallel computing tools.\n",
      "\n",
      "\u2022\t2006: Bivio Software hosted an IPython sprint in addition to their support of the Front Range Pythoneers group in Boulder, CO."
     ]
    },
    {
     "cell_type": "heading",
     "level": 4,
     "metadata": {},
     "source": [
      "The following S.M.A.R.T goals and objectives are current and are an extension of the previous goals, just specific, measurable, achievable, relevant, and time-bounded. NOTE:  S.M.A.R.T GOALS SHOULD BE IN A TABLE FORMAT. I HAVE TO FIGURE OUT HOW TO ADD A TABLE."
     ]
    },
    {
     "cell_type": "heading",
     "level": 5,
     "metadata": {},
     "source": [
      "Global"
     ]
    },
    {
     "cell_type": "markdown",
     "metadata": {},
     "source": [
      "\u2022\t(Global goals?)"
     ]
    },
    {
     "cell_type": "heading",
     "level": 6,
     "metadata": {},
     "source": [
      "Suggested global goals:"
     ]
    },
    {
     "cell_type": "markdown",
     "metadata": {},
     "source": [
      "\u2022\t[Increase customers usage of IPython Notebook by x% (Q4 2014)]\n",
      "\n",
      "\u2022\t[Increase customer satisfaction (Q4 2014)]\n",
      "\n",
      "\u2022\t[Maintain (or Increase) Sponsor satisfaction (Continuous)]"
     ]
    },
    {
     "cell_type": "heading",
     "level": 5,
     "metadata": {},
     "source": [
      "Project Manager/Champion"
     ]
    },
    {
     "cell_type": "markdown",
     "metadata": {},
     "source": [
      "\u2022\tDeliver the IPython Notebook as a general tool for scientific and technical computing that is open, collaborative and reproducible. (Q4 \u201914)\n",
      "\n",
      "\u2022\tDeliver major release of interactive tools (every 6 months)\n",
      "\n",
      "\u2022\tUpdate roadmap document with each release (every 6 months)\n",
      "\n",
      "\u2022\t[Other goals?]"
     ]
    },
    {
     "cell_type": "heading",
     "level": 6,
     "metadata": {},
     "source": [
      "Suggested Goals:"
     ]
    },
    {
     "cell_type": "markdown",
     "metadata": {},
     "source": [
      "\n",
      "\n",
      "\u2022\t[Goal around Fundraising/grant \u2013related goal (by when?)]\n",
      "\n",
      "\u2022\t[Goal to Build/sustaining a team (by when?)]\n",
      "\n",
      "\u2022\tParticipate or offer X number of talks (every 6 months)\n",
      "\n",
      "\u2022\tParticipate or offer  X number of workshops (every 6 months)\n",
      "\n",
      "\u2022\t[Goal to measure and maintain sponsor satisfaction]\n",
      "\n",
      "\u2022\t[Goal to measure customer satisfaction (by when? More surveys?]\n",
      "\n",
      "\u2022\tDeliver White Papers by target date."
     ]
    },
    {
     "cell_type": "heading",
     "level": 5,
     "metadata": {},
     "source": [
      "Developers"
     ]
    },
    {
     "cell_type": "markdown",
     "metadata": {},
     "source": [
      "\u2022\tBuild interactive JavaScript widgets for the IPython Notebook that enable computations and visualizations to be controlled with UI controls (sliders, buttons, etc.) (Q4 \u201914)\n",
      "\n",
      "\u2022\tImprove the IPython Notebook format by creating libraries for converting Notebooks to various formats (LaTeX, PDF, HTML, Presentations) and integrating these into the Notebook web application. (Q4 \u201914)\n",
      "\n",
      "\u2022\tAdding multi-user support to the Notebook web application, to enable small to medium sized groups of trusted individuals to run a central Notebook server for collaborative research and teaching. (Q4 \u201914)\n",
      "\n",
      "\u2022\tDevelop IPython Notebooks for applied statistics in collaboration with Jonathan Taylor, who will use these materials in his Applied Statistics course at Stanford (Q4 \u201914)\n",
      "\n",
      "\u2022\tCore IPython developers meet twice a year, funded by Sloan Foundation (every 6 months)\n",
      "\n",
      "\u2022\t[Other goals?]"
     ]
    },
    {
     "cell_type": "heading",
     "level": 3,
     "metadata": {},
     "source": [
      "BUSINESS PROBLEM AND OPPORTUNITY"
     ]
    },
    {
     "cell_type": "markdown",
     "metadata": {},
     "source": [
      "In the last couple of decades, but increasingly so in the last few years, all scientific disciplines have been tossed into the deep end of the computational pool, often while not being too well prepared for the dip. Up until the end of the XX century, scientific computing was mostly the domain of physicists, chemists and engineers. Fortran and C dominated the scene, and for the most part scientific computing was synonymous with high-end numerical analysis. However, now, all disciplines are drowning in quantitative data and need to develop a culture of scientific computing. Fortunately, the revolution in open source (made possible by the opening of the Internet in the late 90\u2019s) has created many freely available tools, and a culture of how to use them and develop them, that is causing lasting changes in scientific computing.\n",
      "\n",
      "\n",
      "The backbone of scientific computing is mostly a collection of high-performance code written in Fortran, C and C++ that typically runs in batch mode on large systems, dclusters, and supercomputers.  However, over the past decade, high-level environments that integrate easy-to-use integrate easy-to-use interpreted languages, comprehensive numerical libraries, and visualization facilities have become faster, the critical bottleneck in scientific computing is not always the computer\u2019s processing time; the scientist\u2019s time is also a consideration.  For this reason, systems that allow rapid algorithmic exploration, data analysis, and visualization have become a staple of daily scientific work.  The Interactive Data language (IDL) and Matlab (for numerical work), and Mathematica and Maple (for work that includes symbolic manipulation) are well-known commercial environments of this kind.  GNU Data Language, Octave, Maxima and Sage provide their open source counterparts."
     ]
    },
    {
     "cell_type": "heading",
     "level": 3,
     "metadata": {},
     "source": [
      "DESIRED OUTCOME"
     ]
    },
    {
     "cell_type": "markdown",
     "metadata": {},
     "source": [
      "Initially in 2001, the desired outcome was to build an interactive environment that could be used for daily work, inspired by tools a physicist is accustomed to using.  Over time, it evolved to the development of modern, high-quality tools for scientific computing that take advantage of the best practices from the open source revolution in software development and bring them to computational research.\n",
      "\n",
      "\n",
      "Interactive Data language (IDL), Matlab (for numerical work), Mathematica, Maple, GNU Data Language, Octave, Maxima and Sage offer an interactive command line in which code can be run immediately, without having to go through the traditional edit/compile/execute cycle. This flexible style matches well the spirit of computing in a scientific context, in which determining what computations must be performed next often requires significant work. An interactive environment lets scientists look at data, test new ideas, combine algorithmic approaches, and evaluate their outcome directly. This process might lead to a final result, or it might clarify how they need to build a more static, large-scale production code.  Overall, it can make a significant difference to how scientific research is conducted and disseminated.\n",
      "\n",
      "\n",
      "Python is an excellent tool for such a workflow.  The aim is to not only provide a greatly enhanced Python shell but also facilities for interactive distributed and parallel computing, as well as a comprehensive set of tools for building special-purpose interactive environments for scientific computing.\n",
      "\n",
      "\n",
      "In 2001, Fernando Perez took those first steps towards offering a free interactive tool for scientific computing.  He started the IPython project based on the Python programming language. In 2014, the project is now focused on delivering the IPython Notebook as a general tool for scientific and technical computing that is open, collaborative and reproducible and on a global scale."
     ]
    },
    {
     "cell_type": "heading",
     "level": 1,
     "metadata": {},
     "source": [
      "STAKEHOLDER ANALYSIS (NEXT SECTION)"
     ]
    },
    {
     "cell_type": "markdown",
     "metadata": {},
     "source": [
      "No need to write if already written elsewhere"
     ]
    },
    {
     "cell_type": "heading",
     "level": 1,
     "metadata": {},
     "source": [
      "[IPYTHON CAPABILITIES AND] CAPABILITY GAPS (ANOTHER SECTION)"
     ]
    },
    {
     "cell_type": "markdown",
     "metadata": {},
     "source": [
      "No need to write if already written elsewhere. high level view"
     ]
    },
    {
     "cell_type": "code",
     "collapsed": false,
     "input": [],
     "language": "python",
     "metadata": {},
     "outputs": []
    }
   ],
   "metadata": {}
  }
 ]
}